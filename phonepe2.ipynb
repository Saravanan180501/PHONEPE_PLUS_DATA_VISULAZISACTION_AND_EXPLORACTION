{
 "cells": [
  {
   "cell_type": "code",
   "execution_count": 1,
   "metadata": {},
   "outputs": [],
   "source": [
    "import pandas as pd\n",
    "import psycopg2 \n",
    "import plotly.express as px\n",
    "import requests\n",
    "import json"
   ]
  },
  {
   "cell_type": "code",
   "execution_count": 2,
   "metadata": {},
   "outputs": [],
   "source": [
    "#DataFrame Creation\n",
    "\n",
    "#sql connection\n",
    "connection=psycopg2.connect(host=\"localhost\",\n",
    "                            user=\"postgres\",\n",
    "                            port=\"5432\",\n",
    "                            database=\"phonepe_data\",\n",
    "                            password=\"1234\")\n",
    "cursor=connection.cursor()\n",
    "\n",
    "#aggre_insurance_df\n",
    "cursor.execute(\"SELECT *FROM aggregated_insurance\")\n",
    "connection.commit()\n",
    "table1=cursor.fetchall()\n",
    "\n",
    "Aggre_insurance=pd.DataFrame(table1,columns=(\"States\",\"Years\",\"Quarter\",\"Transaction_type\", \n",
    "                                                    \"Transaction_count\",\n",
    "                                                    \"Transaction_amount\"))\n",
    "\n",
    "#aggre_transaction_df\n",
    "cursor.execute(\"SELECT *FROM aggregated_transaction\")\n",
    "connection.commit()\n",
    "table2=cursor.fetchall()\n",
    "\n",
    "Aggre_transaction=pd.DataFrame(table2,columns=(\"States\",\"Years\",\"Quarter\",\"Transaction_type\", \n",
    "                                                    \"Transaction_count\",\n",
    "                                                    \"Transaction_amount\"))\n",
    "\n",
    "\n",
    "#aggre_user_df\n",
    "cursor.execute(\"SELECT *FROM aggregated_user\")\n",
    "connection.commit()\n",
    "table3=cursor.fetchall()\n",
    "\n",
    "Aggre_user=pd.DataFrame(table3,columns=(\"States\",\"Years\",\"Quarter\",\"Brands\", \n",
    "                                                    \"Transaction_count\",\n",
    "                                                    \"Percentage\"))\n",
    "\n",
    "#map_insurance_df\n",
    "cursor.execute(\"SELECT *FROM map_insurance\")\n",
    "connection.commit()\n",
    "table4=cursor.fetchall()\n",
    "\n",
    "Map_insurance=pd.DataFrame(table4,columns=(\"States\",\"Years\",\"Quarter\",\"Districts\", \n",
    "                                                    \"Transaction_count\",\n",
    "                                                    \"Transaction_amount\"))\n",
    "\n",
    "\n",
    "#map_transaction_df\n",
    "cursor.execute(\"SELECT *FROM map_transaction\")\n",
    "connection.commit()\n",
    "table5=cursor.fetchall()\n",
    "\n",
    "Map_transaction=pd.DataFrame(table5,columns=(\"States\",\"Years\",\"Quarter\",\"Districts\", \n",
    "                                                    \"Transaction_count\",\n",
    "                                                    \"Transaction_amount\"))\n",
    "\n",
    "#map_user_df\n",
    "cursor.execute(\"SELECT *FROM map_user\")\n",
    "connection.commit()\n",
    "table6=cursor.fetchall()\n",
    "\n",
    "Map_user=pd.DataFrame(table6,columns=(\"States\",\"Years\",\"Quarter\",\"Districts\", \n",
    "                                                    \"RegisteredUsers\",\n",
    "                                                    \"AppOpens\"))\n",
    "\n",
    "\n",
    "#top_insurance_df\n",
    "cursor.execute(\"SELECT *FROM top_insurance\")\n",
    "connection.commit()\n",
    "table7=cursor.fetchall()\n",
    "\n",
    "Top_insurance=pd.DataFrame(table7,columns=(\"States\",\"Years\",\"Quarter\",\"Pincodes\", \n",
    "                                                    \"Transaction_count\",\n",
    "                                                    \"Transaction_amount\"))\n",
    "\n",
    "\n",
    "#top_transaction_df\n",
    "cursor.execute(\"SELECT *FROM top_transaction\")\n",
    "connection.commit()\n",
    "table8=cursor.fetchall()\n",
    "\n",
    "Top_transaction=pd.DataFrame(table8,columns=(\"States\",\"Years\",\"Quarter\",\"Pincodes\", \n",
    "                                                    \"Transaction_count\",\n",
    "                                                    \"Transaction_amount\"))\n",
    "\n",
    "\n",
    "#top_user_df\n",
    "cursor.execute(\"SELECT *FROM top_user\")\n",
    "connection.commit()\n",
    "table9=cursor.fetchall()\n",
    "\n",
    "Top_user=pd.DataFrame(table9,columns=(\"States\",\"Years\",\"Quarter\",\"Pincodes\", \n",
    "                                                    \"RegisteredUsers\"\n",
    "                                                    ))"
   ]
  },
  {
   "cell_type": "code",
   "execution_count": 3,
   "metadata": {},
   "outputs": [],
   "source": [
    "#sql connection\n",
    "def top_chart_transaction_amount(table_name):\n",
    "    connection=psycopg2.connect(host=\"localhost\",\n",
    "                                user=\"postgres\",\n",
    "                                port=\"5432\",\n",
    "                                database=\"phonepe_data\",\n",
    "                                password=\"1234\")\n",
    "    cursor=connection.cursor()\n",
    "    #plot_1\n",
    "    query1=f'''select states,SUM(transaction_amount) AS transaction_amount \n",
    "                from {table_name}\n",
    "                GROUP BY states\n",
    "                ORDER BY transaction_amount DESC\n",
    "                LIMIT 10;'''\n",
    "\n",
    "    cursor.execute(query1)\n",
    "    table=cursor.fetchall()\n",
    "    connection.commit()\n",
    "\n",
    "    df_1=pd.DataFrame(table, columns=(\"states\",\"transaction_amount\"))\n",
    "\n",
    "    fig_amount=px.bar(df_1, x=\"states\", y=\"transaction_amount\",title=\"TRANSACTION AMOUNT\",hover_name=\"states\",\n",
    "                        color_discrete_sequence=px.colors.sequential.Blackbody_r,height= 650, width= 600)\n",
    "    fig_amount.show()\n",
    "\n",
    "    #plot_2\n",
    "    query2=f'''select states,SUM(transaction_amount) AS transaction_amount \n",
    "                from {table_name}\n",
    "                GROUP BY states\n",
    "                ORDER BY transaction_amount \n",
    "                LIMIT 10;'''\n",
    "\n",
    "    cursor.execute(query2)\n",
    "    table_2=cursor.fetchall()\n",
    "    connection.commit()\n",
    "\n",
    "    df_2=pd.DataFrame(table_2, columns=(\"states\",\"transaction_amount\"))\n",
    "\n",
    "    fig_amount_2=px.bar(df_2, x=\"states\", y=\"transaction_amount\",title=\"TRANSACTION AMOUNT\",hover_name=\"states\",\n",
    "                        color_discrete_sequence=px.colors.sequential.Cividis_r,height= 650, width= 600)\n",
    "    fig_amount_2.show()\n",
    "\n",
    "    #plot_3\n",
    "    query3=f'''select states,AVG(transaction_amount) AS transaction_amount \n",
    "                from {table_name}\n",
    "                GROUP BY states\n",
    "                ORDER BY transaction_amount;'''\n",
    "\n",
    "    cursor.execute(query3)\n",
    "    table_3=cursor.fetchall()\n",
    "    connection.commit()\n",
    "\n",
    "    df_3=pd.DataFrame(table_3, columns=(\"states\",\"transaction_amount\"))\n",
    "\n",
    "    fig_amount_3=px.bar(df_3, y=\"states\", x=\"transaction_amount\",title=\"TRANSACTION AMOUNT\",hover_name=\"states\",orientation=\"h\",\n",
    "                        color_discrete_sequence=px.colors.sequential.Agsunset,height= 800)\n",
    "    fig_amount_3.show()"
   ]
  },
  {
   "cell_type": "code",
   "execution_count": null,
   "metadata": {},
   "outputs": [],
   "source": [
    "top_chart_transaction_amount(\"aggregated_transaction\")"
   ]
  },
  {
   "cell_type": "code",
   "execution_count": 5,
   "metadata": {},
   "outputs": [],
   "source": [
    "#sql connection\n",
    "def top_chart_transaction_count(table_name):\n",
    "    connection=psycopg2.connect(host=\"localhost\",\n",
    "                                user=\"postgres\",\n",
    "                                port=\"5432\",\n",
    "                                database=\"phonepe_data\",\n",
    "                                password=\"1234\")\n",
    "    cursor=connection.cursor()\n",
    "    #plot_1\n",
    "    query1=f'''select states,SUM(transaction_count) AS transaction_count \n",
    "                from {table_name}\n",
    "                GROUP BY states\n",
    "                ORDER BY transaction_count DESC\n",
    "                LIMIT 10;'''\n",
    "\n",
    "    cursor.execute(query1)\n",
    "    table=cursor.fetchall()\n",
    "    connection.commit()\n",
    "\n",
    "    df_1=pd.DataFrame(table, columns=(\"states\",\"transaction_count\"))\n",
    "\n",
    "    fig_amount=px.bar(df_1, x=\"states\", y=\"transaction_count\",title=\"TRANSACTION COUNT\",hover_name=\"states\",\n",
    "                        color_discrete_sequence=px.colors.sequential.Blackbody_r,height= 650, width= 600)\n",
    "    fig_amount.show()\n",
    "\n",
    "    #plot_2\n",
    "    query2=f'''select states,SUM(transaction_count) AS transaction_count \n",
    "                from {table_name}\n",
    "                GROUP BY states\n",
    "                ORDER BY transaction_count \n",
    "                LIMIT 10;'''\n",
    "\n",
    "    cursor.execute(query2)\n",
    "    table_2=cursor.fetchall()\n",
    "    connection.commit()\n",
    "\n",
    "    df_2=pd.DataFrame(table_2, columns=(\"states\",\"transaction_count\"))\n",
    "\n",
    "    fig_amount_2=px.bar(df_2, x=\"states\", y=\"transaction_count\",title=\"TRANSACTION COUNT\",hover_name=\"states\",\n",
    "                        color_discrete_sequence=px.colors.sequential.Cividis_r,height= 650, width= 600)\n",
    "    fig_amount_2.show()\n",
    "\n",
    "    #plot_3\n",
    "    query3=f'''select states,AVG(transaction_count) AS transaction_count \n",
    "                from {table_name}\n",
    "                GROUP BY states\n",
    "                ORDER BY transaction_count;'''\n",
    "\n",
    "    cursor.execute(query3)\n",
    "    table_3=cursor.fetchall()\n",
    "    connection.commit()\n",
    "\n",
    "    df_3=pd.DataFrame(table_3, columns=(\"states\",\"transaction_count\"))\n",
    "\n",
    "    fig_amount_3=px.bar(df_3, y=\"states\", x=\"transaction_count\",title=\"TRANSACTION COUNT\",hover_name=\"states\",orientation=\"h\",\n",
    "                        color_discrete_sequence=px.colors.sequential.Agsunset,height= 800)\n",
    "    fig_amount_3.show()"
   ]
  },
  {
   "cell_type": "code",
   "execution_count": null,
   "metadata": {},
   "outputs": [],
   "source": [
    "top_chart_transaction_count(\"aggregated_insurance\")"
   ]
  },
  {
   "cell_type": "code",
   "execution_count": 53,
   "metadata": {},
   "outputs": [],
   "source": [
    "#sql connection\n",
    "def top_chart_registered_user(table_name, state):\n",
    "    connection=psycopg2.connect(host=\"localhost\",\n",
    "                                user=\"postgres\",\n",
    "                                port=\"5432\",\n",
    "                                database=\"phonepe_data\",\n",
    "                                password=\"1234\")\n",
    "    cursor=connection.cursor()\n",
    "    #plot_1\n",
    "    query1=f'''SELECT districts,SUM(registeredusers) AS registeredusers  \n",
    "                FROM {table_name}\n",
    "                WHERE states= '{state}'\n",
    "                GROUP BY districts\n",
    "                ORDER BY registeredusers DESC\n",
    "                LIMIT 10;'''\n",
    "\n",
    "    cursor.execute(query1)\n",
    "    table1=cursor.fetchall()\n",
    "    connection.commit()\n",
    "\n",
    "    df_1=pd.DataFrame(table1, columns=(\"districts\",\"registeredusers\"))\n",
    "\n",
    "    fig_amount=px.bar(df_1, x=\"districts\", y=\"registeredusers\",title=\"TOP 10 OF REGISTERED USER\",hover_name=\"districts\",\n",
    "                        color_discrete_sequence=px.colors.sequential.Blackbody_r,height= 650, width= 600)\n",
    "    fig_amount.show()\n",
    "\n",
    "    #plot_2\n",
    "    query2=f'''SELECT districts,SUM(registeredusers) AS registeredusers  \n",
    "                FROM {table_name}\n",
    "                WHERE states= '{state}'\n",
    "                GROUP BY districts\n",
    "                ORDER BY registeredusers \n",
    "                LIMIT 10;'''\n",
    "\n",
    "    cursor.execute(query2)\n",
    "    table_2=cursor.fetchall()\n",
    "    connection.commit()\n",
    "\n",
    "    df_2=pd.DataFrame(table_2, columns=(\"districts\",\"registeredusers\"))\n",
    "\n",
    "    fig_amount_2=px.bar(df_2, x=\"districts\", y=\"registeredusers\",title=\"LAST 10 OF REGISTERED USER\",hover_name=\"districts\",\n",
    "                        color_discrete_sequence=px.colors.sequential.Cividis_r,height= 650, width= 600)\n",
    "    fig_amount_2.show()\n",
    "\n",
    "    #plot_3\n",
    "    query3=f'''SELECT districts,AVG(registeredusers) AS registeredusers  \n",
    "                FROM {table_name}\n",
    "                WHERE states= '{state}'\n",
    "                GROUP BY districts\n",
    "                ORDER BY registeredusers \n",
    "                LIMIT 10;'''\n",
    "\n",
    "    cursor.execute(query3)\n",
    "    table_3=cursor.fetchall()\n",
    "    connection.commit()\n",
    "\n",
    "    df_3=pd.DataFrame(table_3, columns=(\"districts\",\"registeredusers\"))\n",
    "\n",
    "    fig_amount_3=px.bar(df_3, y=\"districts\", x=\"registeredusers\",title=\"AVERAGE OF REGISTERED USER\",hover_name=\"districts\",orientation=\"h\",\n",
    "                        color_discrete_sequence=px.colors.sequential.Agsunset,height= 800,width=600)\n",
    "    fig_amount_3.show()"
   ]
  },
  {
   "cell_type": "code",
   "execution_count": null,
   "metadata": {},
   "outputs": [],
   "source": [
    "top_chart_registered_user(\"map_user\", \"Tamil Nadu\")"
   ]
  },
  {
   "cell_type": "code",
   "execution_count": 55,
   "metadata": {},
   "outputs": [],
   "source": [
    "#sql connection\n",
    "def top_chart_appopens(table_name, state):\n",
    "    connection=psycopg2.connect(host=\"localhost\",\n",
    "                                user=\"postgres\",\n",
    "                                port=\"5432\",\n",
    "                                database=\"phonepe_data\",\n",
    "                                password=\"1234\")\n",
    "    cursor=connection.cursor()\n",
    "    #plot_1\n",
    "    query1=f'''SELECT districts,SUM(appopens) AS appopens  \n",
    "                FROM {table_name}\n",
    "                WHERE states= '{state}'\n",
    "                GROUP BY districts\n",
    "                ORDER BY appopens DESC\n",
    "                LIMIT 10;'''\n",
    "\n",
    "    cursor.execute(query1)\n",
    "    table1=cursor.fetchall()\n",
    "    connection.commit()\n",
    "\n",
    "    df_1=pd.DataFrame(table1, columns=(\"districts\",\"appopens\"))\n",
    "\n",
    "    fig_amount=px.bar(df_1, x=\"districts\", y=\"appopens\",title=\"TOP 10 OF APPOPENS\",hover_name=\"districts\",\n",
    "                        color_discrete_sequence=px.colors.sequential.Blackbody_r,height= 650, width= 600)\n",
    "    fig_amount.show()\n",
    "\n",
    "    #plot_2\n",
    "    query2=f'''SELECT districts,SUM(appopens) AS appopens  \n",
    "                FROM {table_name}\n",
    "                WHERE states= '{state}'\n",
    "                GROUP BY districts\n",
    "                ORDER BY appopens \n",
    "                LIMIT 10;'''\n",
    "\n",
    "    cursor.execute(query2)\n",
    "    table_2=cursor.fetchall()\n",
    "    connection.commit()\n",
    "\n",
    "    df_2=pd.DataFrame(table_2, columns=(\"districts\",\"appopens\"))\n",
    "\n",
    "    fig_amount_2=px.bar(df_2, x=\"districts\", y=\"appopens\",title=\"LAST 10 OF APPOPENS\",hover_name=\"districts\",\n",
    "                        color_discrete_sequence=px.colors.sequential.Cividis_r,height= 650, width= 600)\n",
    "    fig_amount_2.show()\n",
    "\n",
    "    #plot_3\n",
    "    query3=f'''SELECT districts,AVG(appopens) AS appopens  \n",
    "                FROM {table_name}\n",
    "                WHERE states= '{state}'\n",
    "                GROUP BY districts\n",
    "                ORDER BY appopens \n",
    "                LIMIT 10;'''\n",
    "\n",
    "    cursor.execute(query3)\n",
    "    table_3=cursor.fetchall()\n",
    "    connection.commit()\n",
    "\n",
    "    df_3=pd.DataFrame(table_3, columns=(\"districts\",\"appopens\"))\n",
    "\n",
    "    fig_amount_3=px.bar(df_3, y=\"districts\", x=\"appopens\",title=\"AVERAGE OF APPOPENS\",hover_name=\"districts\",orientation=\"h\",\n",
    "                        color_discrete_sequence=px.colors.sequential.Agsunset,height= 800,width=600)\n",
    "    fig_amount_3.show()"
   ]
  },
  {
   "cell_type": "code",
   "execution_count": null,
   "metadata": {},
   "outputs": [],
   "source": [
    "top_chart_appopens(\"map_user\", \"Tamil Nadu\")"
   ]
  },
  {
   "cell_type": "code",
   "execution_count": 59,
   "metadata": {},
   "outputs": [],
   "source": [
    "#sql connection\n",
    "def top_chart_registered_users(table_name):\n",
    "    connection=psycopg2.connect(host=\"localhost\",\n",
    "                                user=\"postgres\",\n",
    "                                port=\"5432\",\n",
    "                                database=\"phonepe_data\",\n",
    "                                password=\"1234\")\n",
    "    cursor=connection.cursor()\n",
    "    #plot_1\n",
    "    query1=f'''SELECT states,SUM(registeredusers)AS registeredusers\n",
    "                FROM {table_name}\n",
    "                GROUP BY states\n",
    "                ORDER BY registeredusers DESC\n",
    "                LIMIT 10;'''\n",
    "\n",
    "    cursor.execute(query1)\n",
    "    table1=cursor.fetchall()\n",
    "    connection.commit()\n",
    "\n",
    "    df_1=pd.DataFrame(table1, columns=(\"states\",\"registeredusers\"))\n",
    "\n",
    "    fig_amount=px.bar(df_1, x=\"states\", y=\"registeredusers\",title=\"TOP 10 OF REGISTERED USERS\",hover_name=\"states\",\n",
    "                        color_discrete_sequence=px.colors.sequential.Blackbody_r,height= 650, width= 600)\n",
    "    fig_amount.show()\n",
    "\n",
    "    #plot_2\n",
    "    query2=f'''SELECT states,SUM(registeredusers)AS registeredusers\n",
    "                FROM {table_name}\n",
    "                GROUP BY states\n",
    "                ORDER BY registeredusers \n",
    "                LIMIT 10;'''\n",
    "\n",
    "    cursor.execute(query2)\n",
    "    table_2=cursor.fetchall()\n",
    "    connection.commit()\n",
    "\n",
    "    df_2=pd.DataFrame(table_2, columns=(\"states\",\"registeredusers\"))\n",
    "\n",
    "    fig_amount_2=px.bar(df_2, x=\"states\", y=\"registeredusers\",title=\"LAST 10 OF REGISTERED USERS\",hover_name=\"states\",\n",
    "                        color_discrete_sequence=px.colors.sequential.Cividis_r,height= 650, width= 600)\n",
    "    fig_amount_2.show()\n",
    "\n",
    "    #plot_3\n",
    "    query3=f'''SELECT states,AVG(registeredusers)AS registeredusers\n",
    "                FROM {table_name}\n",
    "                GROUP BY states\n",
    "                ORDER BY registeredusers;'''\n",
    "\n",
    "    cursor.execute(query3)\n",
    "    table_3=cursor.fetchall()\n",
    "    connection.commit()\n",
    "\n",
    "    df_3=pd.DataFrame(table_3, columns=(\"states\",\"registeredusers\"))\n",
    "\n",
    "    fig_amount_3=px.bar(df_3, y=\"states\", x=\"registeredusers\",title=\"AVERAGE OF REGISTERED USERS\",hover_name=\"states\",orientation=\"h\",\n",
    "                        color_discrete_sequence=px.colors.sequential.Agsunset,height= 800,width=600)\n",
    "    fig_amount_3.show()"
   ]
  },
  {
   "cell_type": "code",
   "execution_count": null,
   "metadata": {},
   "outputs": [],
   "source": [
    "top_chart_registered_users(\"top_user\")"
   ]
  },
  {
   "cell_type": "code",
   "execution_count": 63,
   "metadata": {},
   "outputs": [],
   "source": [
    "#sql connection\n",
    "def top_chart_Brands(table_name):\n",
    "    connection=psycopg2.connect(host=\"localhost\",\n",
    "                                user=\"postgres\",\n",
    "                                port=\"5432\",\n",
    "                                database=\"phonepe_data\",\n",
    "                                password=\"1234\")\n",
    "    cursor=connection.cursor()\n",
    "    #plot_1\n",
    "    query1=f'''SELECT brands,SUM(transaction_count) AS transaction_count \n",
    "                FROM {table_name}\n",
    "                GROUP BY brands\n",
    "                ORDER BY transaction_count DESC\n",
    "                LIMIT 10;'''\n",
    "\n",
    "    cursor.execute(query1)\n",
    "    table1=cursor.fetchall()\n",
    "    connection.commit()\n",
    "\n",
    "    df_1=pd.DataFrame(table1, columns=(\"brands\",\"transaction_count\"))\n",
    "\n",
    "    fig_amount=px.bar(df_1, x=\"brands\", y=\"transaction_count\",title=\"TOP 10 OF BRANDS\",hover_name=\"brands\",\n",
    "                        color_discrete_sequence=px.colors.sequential.Blackbody_r,height= 650, width= 600)\n",
    "    fig_amount.show()\n",
    "\n",
    "    #plot_2\n",
    "    query2=f'''SELECT brands,SUM(transaction_count) AS transaction_count \n",
    "                FROM aggregated_user\n",
    "                GROUP BY brands\n",
    "                ORDER BY transaction_count \n",
    "                LIMIT 10;'''\n",
    "\n",
    "    cursor.execute(query2)\n",
    "    table_2=cursor.fetchall()\n",
    "    connection.commit()\n",
    "\n",
    "    df_2=pd.DataFrame(table_2, columns=(\"brands\",\"transaction_count\"))\n",
    "\n",
    "    fig_amount_2=px.bar(df_2, x=\"brands\", y=\"transaction_count\",title=\"LAST 10 OF BRANDS\",hover_name=\"brands\",\n",
    "                        color_discrete_sequence=px.colors.sequential.Cividis_r,height= 650, width= 600)\n",
    "    fig_amount_2.show()"
   ]
  },
  {
   "cell_type": "code",
   "execution_count": 64,
   "metadata": {},
   "outputs": [
    {
     "data": {
      "application/vnd.plotly.v1+json": {
       "config": {
        "plotlyServerURL": "https://plot.ly"
       },
       "data": [
        {
         "alignmentgroup": "True",
         "hovertemplate": "<b>%{hovertext}</b><br><br>brands=%{x}<br>transaction_count=%{y}<extra></extra>",
         "hovertext": [
          "Xiaomi",
          "Samsung",
          "Vivo",
          "Oppo",
          "Others",
          "Realme",
          "Apple",
          "Motorola",
          "OnePlus",
          "Huawei"
         ],
         "legendgroup": "",
         "marker": {
          "color": "rgb(160,200,255)",
          "pattern": {
           "shape": ""
          }
         },
         "name": "",
         "offsetgroup": "",
         "orientation": "v",
         "showlegend": false,
         "textposition": "auto",
         "type": "bar",
         "x": [
          "Xiaomi",
          "Samsung",
          "Vivo",
          "Oppo",
          "Others",
          "Realme",
          "Apple",
          "Motorola",
          "OnePlus",
          "Huawei"
         ],
         "xaxis": "x",
         "y": [
          1739125234,
          1343207422,
          1250830038,
          840500490,
          565900468,
          439946444,
          191894628,
          146681468,
          127354422,
          114259386
         ],
         "yaxis": "y"
        }
       ],
       "layout": {
        "barmode": "relative",
        "height": 650,
        "legend": {
         "tracegroupgap": 0
        },
        "template": {
         "data": {
          "bar": [
           {
            "error_x": {
             "color": "#2a3f5f"
            },
            "error_y": {
             "color": "#2a3f5f"
            },
            "marker": {
             "line": {
              "color": "#E5ECF6",
              "width": 0.5
             },
             "pattern": {
              "fillmode": "overlay",
              "size": 10,
              "solidity": 0.2
             }
            },
            "type": "bar"
           }
          ],
          "barpolar": [
           {
            "marker": {
             "line": {
              "color": "#E5ECF6",
              "width": 0.5
             },
             "pattern": {
              "fillmode": "overlay",
              "size": 10,
              "solidity": 0.2
             }
            },
            "type": "barpolar"
           }
          ],
          "carpet": [
           {
            "aaxis": {
             "endlinecolor": "#2a3f5f",
             "gridcolor": "white",
             "linecolor": "white",
             "minorgridcolor": "white",
             "startlinecolor": "#2a3f5f"
            },
            "baxis": {
             "endlinecolor": "#2a3f5f",
             "gridcolor": "white",
             "linecolor": "white",
             "minorgridcolor": "white",
             "startlinecolor": "#2a3f5f"
            },
            "type": "carpet"
           }
          ],
          "choropleth": [
           {
            "colorbar": {
             "outlinewidth": 0,
             "ticks": ""
            },
            "type": "choropleth"
           }
          ],
          "contour": [
           {
            "colorbar": {
             "outlinewidth": 0,
             "ticks": ""
            },
            "colorscale": [
             [
              0,
              "#0d0887"
             ],
             [
              0.1111111111111111,
              "#46039f"
             ],
             [
              0.2222222222222222,
              "#7201a8"
             ],
             [
              0.3333333333333333,
              "#9c179e"
             ],
             [
              0.4444444444444444,
              "#bd3786"
             ],
             [
              0.5555555555555556,
              "#d8576b"
             ],
             [
              0.6666666666666666,
              "#ed7953"
             ],
             [
              0.7777777777777778,
              "#fb9f3a"
             ],
             [
              0.8888888888888888,
              "#fdca26"
             ],
             [
              1,
              "#f0f921"
             ]
            ],
            "type": "contour"
           }
          ],
          "contourcarpet": [
           {
            "colorbar": {
             "outlinewidth": 0,
             "ticks": ""
            },
            "type": "contourcarpet"
           }
          ],
          "heatmap": [
           {
            "colorbar": {
             "outlinewidth": 0,
             "ticks": ""
            },
            "colorscale": [
             [
              0,
              "#0d0887"
             ],
             [
              0.1111111111111111,
              "#46039f"
             ],
             [
              0.2222222222222222,
              "#7201a8"
             ],
             [
              0.3333333333333333,
              "#9c179e"
             ],
             [
              0.4444444444444444,
              "#bd3786"
             ],
             [
              0.5555555555555556,
              "#d8576b"
             ],
             [
              0.6666666666666666,
              "#ed7953"
             ],
             [
              0.7777777777777778,
              "#fb9f3a"
             ],
             [
              0.8888888888888888,
              "#fdca26"
             ],
             [
              1,
              "#f0f921"
             ]
            ],
            "type": "heatmap"
           }
          ],
          "heatmapgl": [
           {
            "colorbar": {
             "outlinewidth": 0,
             "ticks": ""
            },
            "colorscale": [
             [
              0,
              "#0d0887"
             ],
             [
              0.1111111111111111,
              "#46039f"
             ],
             [
              0.2222222222222222,
              "#7201a8"
             ],
             [
              0.3333333333333333,
              "#9c179e"
             ],
             [
              0.4444444444444444,
              "#bd3786"
             ],
             [
              0.5555555555555556,
              "#d8576b"
             ],
             [
              0.6666666666666666,
              "#ed7953"
             ],
             [
              0.7777777777777778,
              "#fb9f3a"
             ],
             [
              0.8888888888888888,
              "#fdca26"
             ],
             [
              1,
              "#f0f921"
             ]
            ],
            "type": "heatmapgl"
           }
          ],
          "histogram": [
           {
            "marker": {
             "pattern": {
              "fillmode": "overlay",
              "size": 10,
              "solidity": 0.2
             }
            },
            "type": "histogram"
           }
          ],
          "histogram2d": [
           {
            "colorbar": {
             "outlinewidth": 0,
             "ticks": ""
            },
            "colorscale": [
             [
              0,
              "#0d0887"
             ],
             [
              0.1111111111111111,
              "#46039f"
             ],
             [
              0.2222222222222222,
              "#7201a8"
             ],
             [
              0.3333333333333333,
              "#9c179e"
             ],
             [
              0.4444444444444444,
              "#bd3786"
             ],
             [
              0.5555555555555556,
              "#d8576b"
             ],
             [
              0.6666666666666666,
              "#ed7953"
             ],
             [
              0.7777777777777778,
              "#fb9f3a"
             ],
             [
              0.8888888888888888,
              "#fdca26"
             ],
             [
              1,
              "#f0f921"
             ]
            ],
            "type": "histogram2d"
           }
          ],
          "histogram2dcontour": [
           {
            "colorbar": {
             "outlinewidth": 0,
             "ticks": ""
            },
            "colorscale": [
             [
              0,
              "#0d0887"
             ],
             [
              0.1111111111111111,
              "#46039f"
             ],
             [
              0.2222222222222222,
              "#7201a8"
             ],
             [
              0.3333333333333333,
              "#9c179e"
             ],
             [
              0.4444444444444444,
              "#bd3786"
             ],
             [
              0.5555555555555556,
              "#d8576b"
             ],
             [
              0.6666666666666666,
              "#ed7953"
             ],
             [
              0.7777777777777778,
              "#fb9f3a"
             ],
             [
              0.8888888888888888,
              "#fdca26"
             ],
             [
              1,
              "#f0f921"
             ]
            ],
            "type": "histogram2dcontour"
           }
          ],
          "mesh3d": [
           {
            "colorbar": {
             "outlinewidth": 0,
             "ticks": ""
            },
            "type": "mesh3d"
           }
          ],
          "parcoords": [
           {
            "line": {
             "colorbar": {
              "outlinewidth": 0,
              "ticks": ""
             }
            },
            "type": "parcoords"
           }
          ],
          "pie": [
           {
            "automargin": true,
            "type": "pie"
           }
          ],
          "scatter": [
           {
            "fillpattern": {
             "fillmode": "overlay",
             "size": 10,
             "solidity": 0.2
            },
            "type": "scatter"
           }
          ],
          "scatter3d": [
           {
            "line": {
             "colorbar": {
              "outlinewidth": 0,
              "ticks": ""
             }
            },
            "marker": {
             "colorbar": {
              "outlinewidth": 0,
              "ticks": ""
             }
            },
            "type": "scatter3d"
           }
          ],
          "scattercarpet": [
           {
            "marker": {
             "colorbar": {
              "outlinewidth": 0,
              "ticks": ""
             }
            },
            "type": "scattercarpet"
           }
          ],
          "scattergeo": [
           {
            "marker": {
             "colorbar": {
              "outlinewidth": 0,
              "ticks": ""
             }
            },
            "type": "scattergeo"
           }
          ],
          "scattergl": [
           {
            "marker": {
             "colorbar": {
              "outlinewidth": 0,
              "ticks": ""
             }
            },
            "type": "scattergl"
           }
          ],
          "scattermapbox": [
           {
            "marker": {
             "colorbar": {
              "outlinewidth": 0,
              "ticks": ""
             }
            },
            "type": "scattermapbox"
           }
          ],
          "scatterpolar": [
           {
            "marker": {
             "colorbar": {
              "outlinewidth": 0,
              "ticks": ""
             }
            },
            "type": "scatterpolar"
           }
          ],
          "scatterpolargl": [
           {
            "marker": {
             "colorbar": {
              "outlinewidth": 0,
              "ticks": ""
             }
            },
            "type": "scatterpolargl"
           }
          ],
          "scatterternary": [
           {
            "marker": {
             "colorbar": {
              "outlinewidth": 0,
              "ticks": ""
             }
            },
            "type": "scatterternary"
           }
          ],
          "surface": [
           {
            "colorbar": {
             "outlinewidth": 0,
             "ticks": ""
            },
            "colorscale": [
             [
              0,
              "#0d0887"
             ],
             [
              0.1111111111111111,
              "#46039f"
             ],
             [
              0.2222222222222222,
              "#7201a8"
             ],
             [
              0.3333333333333333,
              "#9c179e"
             ],
             [
              0.4444444444444444,
              "#bd3786"
             ],
             [
              0.5555555555555556,
              "#d8576b"
             ],
             [
              0.6666666666666666,
              "#ed7953"
             ],
             [
              0.7777777777777778,
              "#fb9f3a"
             ],
             [
              0.8888888888888888,
              "#fdca26"
             ],
             [
              1,
              "#f0f921"
             ]
            ],
            "type": "surface"
           }
          ],
          "table": [
           {
            "cells": {
             "fill": {
              "color": "#EBF0F8"
             },
             "line": {
              "color": "white"
             }
            },
            "header": {
             "fill": {
              "color": "#C8D4E3"
             },
             "line": {
              "color": "white"
             }
            },
            "type": "table"
           }
          ]
         },
         "layout": {
          "annotationdefaults": {
           "arrowcolor": "#2a3f5f",
           "arrowhead": 0,
           "arrowwidth": 1
          },
          "autotypenumbers": "strict",
          "coloraxis": {
           "colorbar": {
            "outlinewidth": 0,
            "ticks": ""
           }
          },
          "colorscale": {
           "diverging": [
            [
             0,
             "#8e0152"
            ],
            [
             0.1,
             "#c51b7d"
            ],
            [
             0.2,
             "#de77ae"
            ],
            [
             0.3,
             "#f1b6da"
            ],
            [
             0.4,
             "#fde0ef"
            ],
            [
             0.5,
             "#f7f7f7"
            ],
            [
             0.6,
             "#e6f5d0"
            ],
            [
             0.7,
             "#b8e186"
            ],
            [
             0.8,
             "#7fbc41"
            ],
            [
             0.9,
             "#4d9221"
            ],
            [
             1,
             "#276419"
            ]
           ],
           "sequential": [
            [
             0,
             "#0d0887"
            ],
            [
             0.1111111111111111,
             "#46039f"
            ],
            [
             0.2222222222222222,
             "#7201a8"
            ],
            [
             0.3333333333333333,
             "#9c179e"
            ],
            [
             0.4444444444444444,
             "#bd3786"
            ],
            [
             0.5555555555555556,
             "#d8576b"
            ],
            [
             0.6666666666666666,
             "#ed7953"
            ],
            [
             0.7777777777777778,
             "#fb9f3a"
            ],
            [
             0.8888888888888888,
             "#fdca26"
            ],
            [
             1,
             "#f0f921"
            ]
           ],
           "sequentialminus": [
            [
             0,
             "#0d0887"
            ],
            [
             0.1111111111111111,
             "#46039f"
            ],
            [
             0.2222222222222222,
             "#7201a8"
            ],
            [
             0.3333333333333333,
             "#9c179e"
            ],
            [
             0.4444444444444444,
             "#bd3786"
            ],
            [
             0.5555555555555556,
             "#d8576b"
            ],
            [
             0.6666666666666666,
             "#ed7953"
            ],
            [
             0.7777777777777778,
             "#fb9f3a"
            ],
            [
             0.8888888888888888,
             "#fdca26"
            ],
            [
             1,
             "#f0f921"
            ]
           ]
          },
          "colorway": [
           "#636efa",
           "#EF553B",
           "#00cc96",
           "#ab63fa",
           "#FFA15A",
           "#19d3f3",
           "#FF6692",
           "#B6E880",
           "#FF97FF",
           "#FECB52"
          ],
          "font": {
           "color": "#2a3f5f"
          },
          "geo": {
           "bgcolor": "white",
           "lakecolor": "white",
           "landcolor": "#E5ECF6",
           "showlakes": true,
           "showland": true,
           "subunitcolor": "white"
          },
          "hoverlabel": {
           "align": "left"
          },
          "hovermode": "closest",
          "mapbox": {
           "style": "light"
          },
          "paper_bgcolor": "white",
          "plot_bgcolor": "#E5ECF6",
          "polar": {
           "angularaxis": {
            "gridcolor": "white",
            "linecolor": "white",
            "ticks": ""
           },
           "bgcolor": "#E5ECF6",
           "radialaxis": {
            "gridcolor": "white",
            "linecolor": "white",
            "ticks": ""
           }
          },
          "scene": {
           "xaxis": {
            "backgroundcolor": "#E5ECF6",
            "gridcolor": "white",
            "gridwidth": 2,
            "linecolor": "white",
            "showbackground": true,
            "ticks": "",
            "zerolinecolor": "white"
           },
           "yaxis": {
            "backgroundcolor": "#E5ECF6",
            "gridcolor": "white",
            "gridwidth": 2,
            "linecolor": "white",
            "showbackground": true,
            "ticks": "",
            "zerolinecolor": "white"
           },
           "zaxis": {
            "backgroundcolor": "#E5ECF6",
            "gridcolor": "white",
            "gridwidth": 2,
            "linecolor": "white",
            "showbackground": true,
            "ticks": "",
            "zerolinecolor": "white"
           }
          },
          "shapedefaults": {
           "line": {
            "color": "#2a3f5f"
           }
          },
          "ternary": {
           "aaxis": {
            "gridcolor": "white",
            "linecolor": "white",
            "ticks": ""
           },
           "baxis": {
            "gridcolor": "white",
            "linecolor": "white",
            "ticks": ""
           },
           "bgcolor": "#E5ECF6",
           "caxis": {
            "gridcolor": "white",
            "linecolor": "white",
            "ticks": ""
           }
          },
          "title": {
           "x": 0.05
          },
          "xaxis": {
           "automargin": true,
           "gridcolor": "white",
           "linecolor": "white",
           "ticks": "",
           "title": {
            "standoff": 15
           },
           "zerolinecolor": "white",
           "zerolinewidth": 2
          },
          "yaxis": {
           "automargin": true,
           "gridcolor": "white",
           "linecolor": "white",
           "ticks": "",
           "title": {
            "standoff": 15
           },
           "zerolinecolor": "white",
           "zerolinewidth": 2
          }
         }
        },
        "title": {
         "text": "TOP 10 OF BRANDS"
        },
        "width": 600,
        "xaxis": {
         "anchor": "y",
         "domain": [
          0,
          1
         ],
         "title": {
          "text": "brands"
         }
        },
        "yaxis": {
         "anchor": "x",
         "domain": [
          0,
          1
         ],
         "title": {
          "text": "transaction_count"
         }
        }
       }
      }
     },
     "metadata": {},
     "output_type": "display_data"
    },
    {
     "data": {
      "application/vnd.plotly.v1+json": {
       "config": {
        "plotlyServerURL": "https://plot.ly"
       },
       "data": [
        {
         "alignmentgroup": "True",
         "hovertemplate": "<b>%{hovertext}</b><br><br>brands=%{x}<br>transaction_count=%{y}<extra></extra>",
         "hovertext": [
          "COOLPAD",
          "Lyf",
          "HMD Global",
          "Lava",
          "Gionee",
          "Asus",
          "Infinix",
          "Micromax",
          "Tecno",
          "Lenovo"
         ],
         "legendgroup": "",
         "marker": {
          "color": "#fee838",
          "pattern": {
           "shape": ""
          }
         },
         "name": "",
         "offsetgroup": "",
         "orientation": "v",
         "showlegend": false,
         "textposition": "auto",
         "type": "bar",
         "x": [
          "COOLPAD",
          "Lyf",
          "HMD Global",
          "Lava",
          "Gionee",
          "Asus",
          "Infinix",
          "Micromax",
          "Tecno",
          "Lenovo"
         ],
         "xaxis": "x",
         "y": [
          20,
          2542,
          673264,
          3060218,
          6165544,
          8590996,
          10285740,
          22265718,
          24777246,
          85129096
         ],
         "yaxis": "y"
        }
       ],
       "layout": {
        "barmode": "relative",
        "height": 650,
        "legend": {
         "tracegroupgap": 0
        },
        "template": {
         "data": {
          "bar": [
           {
            "error_x": {
             "color": "#2a3f5f"
            },
            "error_y": {
             "color": "#2a3f5f"
            },
            "marker": {
             "line": {
              "color": "#E5ECF6",
              "width": 0.5
             },
             "pattern": {
              "fillmode": "overlay",
              "size": 10,
              "solidity": 0.2
             }
            },
            "type": "bar"
           }
          ],
          "barpolar": [
           {
            "marker": {
             "line": {
              "color": "#E5ECF6",
              "width": 0.5
             },
             "pattern": {
              "fillmode": "overlay",
              "size": 10,
              "solidity": 0.2
             }
            },
            "type": "barpolar"
           }
          ],
          "carpet": [
           {
            "aaxis": {
             "endlinecolor": "#2a3f5f",
             "gridcolor": "white",
             "linecolor": "white",
             "minorgridcolor": "white",
             "startlinecolor": "#2a3f5f"
            },
            "baxis": {
             "endlinecolor": "#2a3f5f",
             "gridcolor": "white",
             "linecolor": "white",
             "minorgridcolor": "white",
             "startlinecolor": "#2a3f5f"
            },
            "type": "carpet"
           }
          ],
          "choropleth": [
           {
            "colorbar": {
             "outlinewidth": 0,
             "ticks": ""
            },
            "type": "choropleth"
           }
          ],
          "contour": [
           {
            "colorbar": {
             "outlinewidth": 0,
             "ticks": ""
            },
            "colorscale": [
             [
              0,
              "#0d0887"
             ],
             [
              0.1111111111111111,
              "#46039f"
             ],
             [
              0.2222222222222222,
              "#7201a8"
             ],
             [
              0.3333333333333333,
              "#9c179e"
             ],
             [
              0.4444444444444444,
              "#bd3786"
             ],
             [
              0.5555555555555556,
              "#d8576b"
             ],
             [
              0.6666666666666666,
              "#ed7953"
             ],
             [
              0.7777777777777778,
              "#fb9f3a"
             ],
             [
              0.8888888888888888,
              "#fdca26"
             ],
             [
              1,
              "#f0f921"
             ]
            ],
            "type": "contour"
           }
          ],
          "contourcarpet": [
           {
            "colorbar": {
             "outlinewidth": 0,
             "ticks": ""
            },
            "type": "contourcarpet"
           }
          ],
          "heatmap": [
           {
            "colorbar": {
             "outlinewidth": 0,
             "ticks": ""
            },
            "colorscale": [
             [
              0,
              "#0d0887"
             ],
             [
              0.1111111111111111,
              "#46039f"
             ],
             [
              0.2222222222222222,
              "#7201a8"
             ],
             [
              0.3333333333333333,
              "#9c179e"
             ],
             [
              0.4444444444444444,
              "#bd3786"
             ],
             [
              0.5555555555555556,
              "#d8576b"
             ],
             [
              0.6666666666666666,
              "#ed7953"
             ],
             [
              0.7777777777777778,
              "#fb9f3a"
             ],
             [
              0.8888888888888888,
              "#fdca26"
             ],
             [
              1,
              "#f0f921"
             ]
            ],
            "type": "heatmap"
           }
          ],
          "heatmapgl": [
           {
            "colorbar": {
             "outlinewidth": 0,
             "ticks": ""
            },
            "colorscale": [
             [
              0,
              "#0d0887"
             ],
             [
              0.1111111111111111,
              "#46039f"
             ],
             [
              0.2222222222222222,
              "#7201a8"
             ],
             [
              0.3333333333333333,
              "#9c179e"
             ],
             [
              0.4444444444444444,
              "#bd3786"
             ],
             [
              0.5555555555555556,
              "#d8576b"
             ],
             [
              0.6666666666666666,
              "#ed7953"
             ],
             [
              0.7777777777777778,
              "#fb9f3a"
             ],
             [
              0.8888888888888888,
              "#fdca26"
             ],
             [
              1,
              "#f0f921"
             ]
            ],
            "type": "heatmapgl"
           }
          ],
          "histogram": [
           {
            "marker": {
             "pattern": {
              "fillmode": "overlay",
              "size": 10,
              "solidity": 0.2
             }
            },
            "type": "histogram"
           }
          ],
          "histogram2d": [
           {
            "colorbar": {
             "outlinewidth": 0,
             "ticks": ""
            },
            "colorscale": [
             [
              0,
              "#0d0887"
             ],
             [
              0.1111111111111111,
              "#46039f"
             ],
             [
              0.2222222222222222,
              "#7201a8"
             ],
             [
              0.3333333333333333,
              "#9c179e"
             ],
             [
              0.4444444444444444,
              "#bd3786"
             ],
             [
              0.5555555555555556,
              "#d8576b"
             ],
             [
              0.6666666666666666,
              "#ed7953"
             ],
             [
              0.7777777777777778,
              "#fb9f3a"
             ],
             [
              0.8888888888888888,
              "#fdca26"
             ],
             [
              1,
              "#f0f921"
             ]
            ],
            "type": "histogram2d"
           }
          ],
          "histogram2dcontour": [
           {
            "colorbar": {
             "outlinewidth": 0,
             "ticks": ""
            },
            "colorscale": [
             [
              0,
              "#0d0887"
             ],
             [
              0.1111111111111111,
              "#46039f"
             ],
             [
              0.2222222222222222,
              "#7201a8"
             ],
             [
              0.3333333333333333,
              "#9c179e"
             ],
             [
              0.4444444444444444,
              "#bd3786"
             ],
             [
              0.5555555555555556,
              "#d8576b"
             ],
             [
              0.6666666666666666,
              "#ed7953"
             ],
             [
              0.7777777777777778,
              "#fb9f3a"
             ],
             [
              0.8888888888888888,
              "#fdca26"
             ],
             [
              1,
              "#f0f921"
             ]
            ],
            "type": "histogram2dcontour"
           }
          ],
          "mesh3d": [
           {
            "colorbar": {
             "outlinewidth": 0,
             "ticks": ""
            },
            "type": "mesh3d"
           }
          ],
          "parcoords": [
           {
            "line": {
             "colorbar": {
              "outlinewidth": 0,
              "ticks": ""
             }
            },
            "type": "parcoords"
           }
          ],
          "pie": [
           {
            "automargin": true,
            "type": "pie"
           }
          ],
          "scatter": [
           {
            "fillpattern": {
             "fillmode": "overlay",
             "size": 10,
             "solidity": 0.2
            },
            "type": "scatter"
           }
          ],
          "scatter3d": [
           {
            "line": {
             "colorbar": {
              "outlinewidth": 0,
              "ticks": ""
             }
            },
            "marker": {
             "colorbar": {
              "outlinewidth": 0,
              "ticks": ""
             }
            },
            "type": "scatter3d"
           }
          ],
          "scattercarpet": [
           {
            "marker": {
             "colorbar": {
              "outlinewidth": 0,
              "ticks": ""
             }
            },
            "type": "scattercarpet"
           }
          ],
          "scattergeo": [
           {
            "marker": {
             "colorbar": {
              "outlinewidth": 0,
              "ticks": ""
             }
            },
            "type": "scattergeo"
           }
          ],
          "scattergl": [
           {
            "marker": {
             "colorbar": {
              "outlinewidth": 0,
              "ticks": ""
             }
            },
            "type": "scattergl"
           }
          ],
          "scattermapbox": [
           {
            "marker": {
             "colorbar": {
              "outlinewidth": 0,
              "ticks": ""
             }
            },
            "type": "scattermapbox"
           }
          ],
          "scatterpolar": [
           {
            "marker": {
             "colorbar": {
              "outlinewidth": 0,
              "ticks": ""
             }
            },
            "type": "scatterpolar"
           }
          ],
          "scatterpolargl": [
           {
            "marker": {
             "colorbar": {
              "outlinewidth": 0,
              "ticks": ""
             }
            },
            "type": "scatterpolargl"
           }
          ],
          "scatterternary": [
           {
            "marker": {
             "colorbar": {
              "outlinewidth": 0,
              "ticks": ""
             }
            },
            "type": "scatterternary"
           }
          ],
          "surface": [
           {
            "colorbar": {
             "outlinewidth": 0,
             "ticks": ""
            },
            "colorscale": [
             [
              0,
              "#0d0887"
             ],
             [
              0.1111111111111111,
              "#46039f"
             ],
             [
              0.2222222222222222,
              "#7201a8"
             ],
             [
              0.3333333333333333,
              "#9c179e"
             ],
             [
              0.4444444444444444,
              "#bd3786"
             ],
             [
              0.5555555555555556,
              "#d8576b"
             ],
             [
              0.6666666666666666,
              "#ed7953"
             ],
             [
              0.7777777777777778,
              "#fb9f3a"
             ],
             [
              0.8888888888888888,
              "#fdca26"
             ],
             [
              1,
              "#f0f921"
             ]
            ],
            "type": "surface"
           }
          ],
          "table": [
           {
            "cells": {
             "fill": {
              "color": "#EBF0F8"
             },
             "line": {
              "color": "white"
             }
            },
            "header": {
             "fill": {
              "color": "#C8D4E3"
             },
             "line": {
              "color": "white"
             }
            },
            "type": "table"
           }
          ]
         },
         "layout": {
          "annotationdefaults": {
           "arrowcolor": "#2a3f5f",
           "arrowhead": 0,
           "arrowwidth": 1
          },
          "autotypenumbers": "strict",
          "coloraxis": {
           "colorbar": {
            "outlinewidth": 0,
            "ticks": ""
           }
          },
          "colorscale": {
           "diverging": [
            [
             0,
             "#8e0152"
            ],
            [
             0.1,
             "#c51b7d"
            ],
            [
             0.2,
             "#de77ae"
            ],
            [
             0.3,
             "#f1b6da"
            ],
            [
             0.4,
             "#fde0ef"
            ],
            [
             0.5,
             "#f7f7f7"
            ],
            [
             0.6,
             "#e6f5d0"
            ],
            [
             0.7,
             "#b8e186"
            ],
            [
             0.8,
             "#7fbc41"
            ],
            [
             0.9,
             "#4d9221"
            ],
            [
             1,
             "#276419"
            ]
           ],
           "sequential": [
            [
             0,
             "#0d0887"
            ],
            [
             0.1111111111111111,
             "#46039f"
            ],
            [
             0.2222222222222222,
             "#7201a8"
            ],
            [
             0.3333333333333333,
             "#9c179e"
            ],
            [
             0.4444444444444444,
             "#bd3786"
            ],
            [
             0.5555555555555556,
             "#d8576b"
            ],
            [
             0.6666666666666666,
             "#ed7953"
            ],
            [
             0.7777777777777778,
             "#fb9f3a"
            ],
            [
             0.8888888888888888,
             "#fdca26"
            ],
            [
             1,
             "#f0f921"
            ]
           ],
           "sequentialminus": [
            [
             0,
             "#0d0887"
            ],
            [
             0.1111111111111111,
             "#46039f"
            ],
            [
             0.2222222222222222,
             "#7201a8"
            ],
            [
             0.3333333333333333,
             "#9c179e"
            ],
            [
             0.4444444444444444,
             "#bd3786"
            ],
            [
             0.5555555555555556,
             "#d8576b"
            ],
            [
             0.6666666666666666,
             "#ed7953"
            ],
            [
             0.7777777777777778,
             "#fb9f3a"
            ],
            [
             0.8888888888888888,
             "#fdca26"
            ],
            [
             1,
             "#f0f921"
            ]
           ]
          },
          "colorway": [
           "#636efa",
           "#EF553B",
           "#00cc96",
           "#ab63fa",
           "#FFA15A",
           "#19d3f3",
           "#FF6692",
           "#B6E880",
           "#FF97FF",
           "#FECB52"
          ],
          "font": {
           "color": "#2a3f5f"
          },
          "geo": {
           "bgcolor": "white",
           "lakecolor": "white",
           "landcolor": "#E5ECF6",
           "showlakes": true,
           "showland": true,
           "subunitcolor": "white"
          },
          "hoverlabel": {
           "align": "left"
          },
          "hovermode": "closest",
          "mapbox": {
           "style": "light"
          },
          "paper_bgcolor": "white",
          "plot_bgcolor": "#E5ECF6",
          "polar": {
           "angularaxis": {
            "gridcolor": "white",
            "linecolor": "white",
            "ticks": ""
           },
           "bgcolor": "#E5ECF6",
           "radialaxis": {
            "gridcolor": "white",
            "linecolor": "white",
            "ticks": ""
           }
          },
          "scene": {
           "xaxis": {
            "backgroundcolor": "#E5ECF6",
            "gridcolor": "white",
            "gridwidth": 2,
            "linecolor": "white",
            "showbackground": true,
            "ticks": "",
            "zerolinecolor": "white"
           },
           "yaxis": {
            "backgroundcolor": "#E5ECF6",
            "gridcolor": "white",
            "gridwidth": 2,
            "linecolor": "white",
            "showbackground": true,
            "ticks": "",
            "zerolinecolor": "white"
           },
           "zaxis": {
            "backgroundcolor": "#E5ECF6",
            "gridcolor": "white",
            "gridwidth": 2,
            "linecolor": "white",
            "showbackground": true,
            "ticks": "",
            "zerolinecolor": "white"
           }
          },
          "shapedefaults": {
           "line": {
            "color": "#2a3f5f"
           }
          },
          "ternary": {
           "aaxis": {
            "gridcolor": "white",
            "linecolor": "white",
            "ticks": ""
           },
           "baxis": {
            "gridcolor": "white",
            "linecolor": "white",
            "ticks": ""
           },
           "bgcolor": "#E5ECF6",
           "caxis": {
            "gridcolor": "white",
            "linecolor": "white",
            "ticks": ""
           }
          },
          "title": {
           "x": 0.05
          },
          "xaxis": {
           "automargin": true,
           "gridcolor": "white",
           "linecolor": "white",
           "ticks": "",
           "title": {
            "standoff": 15
           },
           "zerolinecolor": "white",
           "zerolinewidth": 2
          },
          "yaxis": {
           "automargin": true,
           "gridcolor": "white",
           "linecolor": "white",
           "ticks": "",
           "title": {
            "standoff": 15
           },
           "zerolinecolor": "white",
           "zerolinewidth": 2
          }
         }
        },
        "title": {
         "text": "LAST 10 OF BRANDS"
        },
        "width": 600,
        "xaxis": {
         "anchor": "y",
         "domain": [
          0,
          1
         ],
         "title": {
          "text": "brands"
         }
        },
        "yaxis": {
         "anchor": "x",
         "domain": [
          0,
          1
         ],
         "title": {
          "text": "transaction_count"
         }
        }
       }
      }
     },
     "metadata": {},
     "output_type": "display_data"
    }
   ],
   "source": [
    "top_chart_Brands(\"aggregated_user\")"
   ]
  },
  {
   "cell_type": "code",
   "execution_count": 7,
   "metadata": {},
   "outputs": [],
   "source": [
    "#Transaction_year_Based\n",
    "def Transaction_amount_count_Y(df,Year):\n",
    "    tacy=df[df[\"Years\"] == Year]\n",
    "    tacy.reset_index(drop=True,inplace= True)\n",
    "\n",
    "    tacyg=tacy.groupby(\"States\")[[\"Transaction_count\",\"Transaction_amount\"]].sum()\n",
    "    tacyg.reset_index(inplace=True)\n",
    "\n",
    "\n",
    "    fig_amount=px.bar(tacyg, x=\"States\", y=\"Transaction_amount\",title=f\"{Year} TRANSACTION AMOUNT\",\n",
    "                    color_discrete_sequence=px.colors.sequential.Blackbody_r,height= 650, width= 600)\n",
    "    fig_amount.show()\n",
    "\n",
    "    fig_count=px.bar(tacyg, x=\"States\", y=\"Transaction_count\",title=f\"{Year} TRANSACTION COUNT\",\n",
    "                    color_discrete_sequence=px.colors.sequential.Brwnyl_r,height= 650, width= 600)\n",
    "    fig_count.show()\n",
    "    \n",
    "    url= \"https://gist.githubusercontent.com/jbrobst/56c13bbbf9d97d187fea01ca62ea5112/raw/e388c4cae20aa53cb5090210a42ebb9b765c0a36/india_states.geojson\"\n",
    "    response=requests.get(url)\n",
    "    data1=json.loads(response.content)\n",
    "    states_names=[]\n",
    "    for feature in data1[\"features\"]:\n",
    "        states_names.append(feature[\"properties\"][\"ST_NM\"])\n",
    "        \n",
    "    states_names.sort()    \n",
    "\n",
    "    fig_india_1=px.choropleth(tacyg, geojson=data1, locations= \"States\",featureidkey=\"properties.ST_NM\",\n",
    "                              color= \"Transaction_amount\",color_continuous_scale=\"twilight\",\n",
    "                              range_color=(tacyg[\"Transaction_amount\"].min(),tacyg[\"Transaction_amount\"].max()),\n",
    "                              hover_name=\"States\",title=f\"{Year} TRANSACTION AMOUNT\", fitbounds= \"locations\",\n",
    "                              height= 650, width= 600)\n",
    "    fig_india_1.update_geos(visible=False)\n",
    "    fig_india_1.show()\n",
    "    \n",
    "    fig_india_2=px.choropleth(tacyg, geojson=data1, locations= \"States\",featureidkey=\"properties.ST_NM\",\n",
    "                              color= \"Transaction_count\",color_continuous_scale=\"twilight\",\n",
    "                              range_color=(tacyg[\"Transaction_count\"].min(),tacyg[\"Transaction_count\"].max()),\n",
    "                              hover_name=\"States\",title=f\"{Year} TRANSACTION COUNT\", fitbounds= \"locations\",\n",
    "                              height= 650, width= 600)\n",
    "    fig_india_2.update_geos(visible=False)\n",
    "    fig_india_2.show()\n",
    "    \n",
    "    return tacy\n"
   ]
  },
  {
   "cell_type": "code",
   "execution_count": 8,
   "metadata": {},
   "outputs": [],
   "source": [
    "#Transaction_Quarter_Based\n",
    "def Transaction_amount_count_Y_Q(df,quarter):\n",
    "    tacy=df[df[\"Quarter\"]== quarter]\n",
    "    tacy.reset_index(drop=True,inplace= True)\n",
    "\n",
    "    tacyg=tacy.groupby(\"States\")[[\"Transaction_count\",\"Transaction_amount\"]].sum()\n",
    "    tacyg.reset_index(inplace=True)\n",
    "\n",
    "\n",
    "    fig_amount=px.bar(tacyg, x=\"States\", y=\"Transaction_amount\",title=f\"{tacy['Years'].min()} YEAR {quarter} QUARTER TRANSACTION AMOUNT\",\n",
    "                    color_discrete_sequence=px.colors.sequential.Blackbody_r,height= 650, width= 600)\n",
    "    fig_amount.show()\n",
    "\n",
    "    fig_count=px.bar(tacyg, x=\"States\", y=\"Transaction_count\",title=f\"{tacy['Years'].min()} YEAR {quarter} QUARTER  TRANSACTION COUNT\",\n",
    "                    color_discrete_sequence=px.colors.sequential.Brwnyl_r,height= 650, width= 600)\n",
    "    fig_count.show()\n",
    "    \n",
    "    url= \"https://gist.githubusercontent.com/jbrobst/56c13bbbf9d97d187fea01ca62ea5112/raw/e388c4cae20aa53cb5090210a42ebb9b765c0a36/india_states.geojson\"\n",
    "    response=requests.get(url)\n",
    "    data1=json.loads(response.content)\n",
    "    states_names=[]\n",
    "    for feature in data1[\"features\"]:\n",
    "        states_names.append(feature[\"properties\"][\"ST_NM\"])\n",
    "        \n",
    "    states_names.sort()    \n",
    "\n",
    "    fig_india_1=px.choropleth(tacyg, geojson=data1, locations= \"States\",featureidkey=\"properties.ST_NM\",\n",
    "                              color= \"Transaction_amount\",color_continuous_scale=\"twilight\",\n",
    "                              range_color=(tacyg[\"Transaction_amount\"].min(),tacyg[\"Transaction_amount\"].max()),\n",
    "                              hover_name=\"States\",title=f\"{tacy['Years'].min()} YEAR {quarter} QUARTER  TRANSACTION AMOUNT\", fitbounds= \"locations\",\n",
    "                              height= 650, width= 600)\n",
    "    fig_india_1.update_geos(visible=False)\n",
    "    fig_india_1.show()\n",
    "    \n",
    "    fig_india_2=px.choropleth(tacyg, geojson=data1, locations= \"States\",featureidkey=\"properties.ST_NM\",\n",
    "                              color= \"Transaction_count\",color_continuous_scale=\"twilight\",\n",
    "                              range_color=(tacyg[\"Transaction_count\"].min(),tacyg[\"Transaction_count\"].max()),\n",
    "                              hover_name=\"States\",title=f\"{tacy['Years'].min()} YEAR {quarter} QUARTER  TRANSACTION COUNT\", fitbounds= \"locations\",\n",
    "                              height= 650, width= 600)\n",
    "    fig_india_2.update_geos(visible=False)\n",
    "    fig_india_2.show()\n",
    "    \n",
    "    return tacy\n"
   ]
  },
  {
   "cell_type": "code",
   "execution_count": 9,
   "metadata": {},
   "outputs": [],
   "source": [
    "#Transaction_type\n",
    "def Aggre_Tran_Transaction_type(df,state):\n",
    "\n",
    "    tacy=df[df[\"States\"]== state]\n",
    "    tacy.reset_index(drop=True,inplace= True)\n",
    "\n",
    "    tacyg=tacy.groupby(\"Transaction_type\")[[\"Transaction_count\",\"Transaction_amount\"]].sum()\n",
    "    tacyg.reset_index(inplace=True)\n",
    "\n",
    "    fig_pie_1=px.pie(data_frame=tacyg,names=\"Transaction_type\",values=\"Transaction_amount\",\n",
    "                    width=600,title=f\"{state.upper()} TRANSACTION AMOUNT\",hole=0.5)\n",
    "    fig_pie_1.show()\n",
    "\n",
    "    fig_pie_2=px.pie(data_frame=tacyg,names=\"Transaction_type\",values=\"Transaction_count\",\n",
    "                    width=600,title=f\"{state.upper()} TRANSACTION COUNT\",hole=0.5)\n",
    "    fig_pie_2.show()"
   ]
  },
  {
   "cell_type": "code",
   "execution_count": 10,
   "metadata": {},
   "outputs": [],
   "source": [
    "# Aggre_user_analysis_1\n",
    "def Aggre_user_plot_1(df, year):\n",
    "    aguy=df[df[\"Years\"]== year]\n",
    "    aguy.reset_index(drop= True, inplace= True)\n",
    "\n",
    "    aguyg=pd.DataFrame (aguy.groupby(\"Brands\")[\"Transaction_count\"].sum())\n",
    "    aguyg.reset_index(inplace= True)\n",
    "\n",
    "    fig_bar_1=px.bar(aguyg, x=\"Brands\", y=\"Transaction_count\", title=f\"{year} BRANDS AND TRANSACTION COUNT\",\n",
    "                    width=1000,color_discrete_sequence=px.colors.sequential.Jet_r,hover_name=\"Brands\")\n",
    "    fig_bar_1.show()\n",
    "    \n",
    "    return aguy"
   ]
  },
  {
   "cell_type": "code",
   "execution_count": 11,
   "metadata": {},
   "outputs": [],
   "source": [
    "#Aggre_user_analysis_2\n",
    "def Aggre_user_plot_2(df, quarter):\n",
    "    aguyq=df[df[\"Quarter\"]== quarter]\n",
    "    aguyq.reset_index(drop= True, inplace= True)\n",
    "\n",
    "    aguyqg=pd.DataFrame(aguyq.groupby(\"Brands\")[\"Transaction_count\"].sum())\n",
    "    aguyqg.reset_index(inplace= True)\n",
    "\n",
    "    fig_bar_1=px.bar(aguyqg, x=\"Brands\", y=\"Transaction_count\", title=f\"{quarter} QUARTER, BRANDS AND TRANSACTION COUNT\",\n",
    "                        width=1000,color_discrete_sequence=px.colors.sequential.Jet_r, hover_name=\"Brands\")\n",
    "    fig_bar_1.show() \n",
    "    \n",
    "    return aguyq\n"
   ]
  },
  {
   "cell_type": "code",
   "execution_count": 12,
   "metadata": {},
   "outputs": [],
   "source": [
    "#Aggre_user_analysis_3\n",
    "def Aggre_user_plot_3(df,state):\n",
    "    auyqs=df[df[\"States\"]== state]\n",
    "    auyqs.reset_index(drop= True, inplace=True)\n",
    "\n",
    "    fig_line_1=px.line(auyqs, x=\"Brands\", y= \"Transaction_count\",hover_data=\"Percentage\",\n",
    "                    title=f\"{state.upper()} BRANDS, TRANSACTION COUNT, PERCENTAGE\",width= 1000, markers=True )\n",
    "    fig_line_1.show()"
   ]
  },
  {
   "cell_type": "code",
   "execution_count": 13,
   "metadata": {},
   "outputs": [],
   "source": [
    "#Map_insurance_district\n",
    "def Map_insur_Districts(df,state):\n",
    "\n",
    "    tacy=df[df[\"States\"]== state]\n",
    "    tacy.reset_index(drop=True,inplace= True)\n",
    "\n",
    "    tacyg=tacy.groupby(\"Districts\")[[\"Transaction_count\",\"Transaction_amount\"]].sum()\n",
    "    tacyg.reset_index(inplace=True)\n",
    "\n",
    "    fig_bar_1=px.bar(tacyg, x=\"Transaction_amount\", y=\"Districts\",orientation=\"h\",\n",
    "                     title=f\"{state.upper()} DISTRICT AND TRANSACTION AMOUNT\", color_discrete_sequence= px.colors.sequential.Plasma)\n",
    "    fig_bar_1.show()\n",
    "\n",
    "    fig_bar_2=px.bar(tacyg, x=\"Transaction_count\", y=\"Districts\",orientation=\"h\",\n",
    "                     title=f\"{state.upper()} DISTRICT AND TRANSACTION COUNT\", color_discrete_sequence= px.colors.sequential.Mint_r)\n",
    "    fig_bar_2.show()"
   ]
  },
  {
   "cell_type": "code",
   "execution_count": 14,
   "metadata": {},
   "outputs": [],
   "source": [
    "#Map_user_plot_1\n",
    "def map_user_plot_1(df, year):\n",
    "    muy=df[df[\"Years\"]== year]\n",
    "    muy.reset_index(drop= True, inplace= True)\n",
    "\n",
    "    muyg=muy.groupby(\"States\")[[\"RegisteredUsers\",\"AppOpens\"]].sum()\n",
    "    muyg.reset_index(inplace= True)\n",
    "\n",
    "    fig_line_1=px.line(muyg, x=\"States\", y= [\"RegisteredUsers\", \"AppOpens\"],\n",
    "                        title=f\"{year} REGISTERED USER, APPOPENS\",width= 1000,height=800, markers=True )\n",
    "    fig_line_1.show()\n",
    "    \n",
    "    return muy"
   ]
  },
  {
   "cell_type": "code",
   "execution_count": 15,
   "metadata": {},
   "outputs": [],
   "source": [
    "#Map_user_plot_2\n",
    "def map_user_plot_2(df, quarter):\n",
    "    muyq=df[df[\"Quarter\"]== quarter]\n",
    "    muyq.reset_index(drop= True, inplace= True)\n",
    "\n",
    "    muyqg=muyq.groupby(\"States\")[[\"RegisteredUsers\",\"AppOpens\"]].sum()\n",
    "    muyqg.reset_index(inplace= True)\n",
    "\n",
    "    fig_line_1=px.line(muyqg, x=\"States\", y= [\"RegisteredUsers\", \"AppOpens\"],\n",
    "                        title=f\"{df['Years'].min()} YEAR {quarter} QUARTER REGISTERED USER, APPOPENS\",width= 1000,height=800, markers=True,\n",
    "                        color_discrete_sequence=px.colors.sequential.Rainbow_r)\n",
    "    fig_line_1.show()\n",
    "    \n",
    "    return muyq"
   ]
  },
  {
   "cell_type": "code",
   "execution_count": 16,
   "metadata": {},
   "outputs": [],
   "source": [
    "#map_user_plot_3\n",
    "def map_user_plot_3(df,states):\n",
    "    muyqs=df[df[\"States\"]==states]\n",
    "    muyqs.reset_index(drop= True, inplace= True)\n",
    "\n",
    "    fig_map_user_bar_1=px.bar(muyqs, x=\"RegisteredUsers\", y=\"Districts\", orientation=\"h\",\n",
    "                                title= \"REGISTERED USER\",height=800, color_discrete_sequence= px.colors.sequential.solar)\n",
    "    fig_map_user_bar_1.show()\n",
    "    fig_map_user_bar_2=px.bar(muyqs, x=\"AppOpens\", y=\"Districts\", orientation=\"h\",\n",
    "                                title= \"APPOPENS\",height=800, color_discrete_sequence= px.colors.sequential.Agsunset)\n",
    "    fig_map_user_bar_2.show()"
   ]
  },
  {
   "cell_type": "code",
   "execution_count": 17,
   "metadata": {},
   "outputs": [],
   "source": [
    "#top_insurance_plot_1\n",
    "def top_insurance_plot_1(df,state):\n",
    "    tiy=df[df[\"States\"]== state]\n",
    "    tiy.reset_index(drop= True, inplace= True)\n",
    "\n",
    "    fig_top_insur_bar_1=px.bar(tiy, x=\"Quarter\", y=\"Transaction_amount\",hover_data=\"Pincodes\",\n",
    "                                    title= \"TRANSACTION AMOUNT\",height=800, color_discrete_sequence= px.colors.sequential.PuBuGn_r)\n",
    "    fig_top_insur_bar_1.show()\n",
    "\n",
    "    fig_top_insur_bar_2=px.bar(tiy, x=\"Quarter\", y=\"Transaction_count\",hover_data=\"Pincodes\",\n",
    "                                    title= \"TRANSACTION COUNT\",height=800, color_discrete_sequence= px.colors.sequential.Aggrnyl_r)\n",
    "    fig_top_insur_bar_2.show()"
   ]
  },
  {
   "cell_type": "code",
   "execution_count": 18,
   "metadata": {},
   "outputs": [],
   "source": [
    "#top_user_plot_1\n",
    "def top_user_plot_1(df,year):\n",
    "    tuy=df[df[\"Years\"]== year]\n",
    "    tuy.reset_index(drop= True, inplace= True)\n",
    "    \n",
    "    tuyg=pd.DataFrame (tuy.groupby([\"States\",\"Quarter\"])[\"RegisteredUsers\"].sum())\n",
    "    tuyg.reset_index(inplace= True)\n",
    "\n",
    "    fig_top_plot_1=px.bar(tuyg, x=\"States\", y=\"RegisteredUsers\",color=\"Quarter\",width=1000, height=800,\n",
    "                        color_discrete_sequence=px.colors.sequential.Bluered_r,hover_name=\"States\",title=f\"{year} REGISTERED USERS\")\n",
    "    fig_top_plot_1.show()\n",
    "    \n",
    "    return tuy"
   ]
  },
  {
   "cell_type": "code",
   "execution_count": 19,
   "metadata": {},
   "outputs": [],
   "source": [
    "#top_user_plot_2\n",
    "def top_user_plot_2(df,state):\n",
    "    tuys=df[df[\"States\"]== state]\n",
    "    tuys.reset_index(drop= True, inplace= True)\n",
    "\n",
    "    fig_top_plot_2=px.bar(tuys, x=\"Quarter\", y=\"RegisteredUsers\", title=\"REGISTERED USER, PINCODES, QUARTER\",\n",
    "                            width=1000, height=800, color=\"RegisteredUsers\",hover_data=\"Pincodes\",\n",
    "                            color_continuous_scale= px.colors.sequential.Magenta)\n",
    "    fig_top_plot_2.show()"
   ]
  },
  {
   "cell_type": "markdown",
   "metadata": {},
   "source": [
    "### Aggregated_insurance"
   ]
  },
  {
   "cell_type": "code",
   "execution_count": null,
   "metadata": {},
   "outputs": [],
   "source": [
    "tac_y=Transaction_amount_count_Y(Aggre_insurance,2021)"
   ]
  },
  {
   "cell_type": "code",
   "execution_count": null,
   "metadata": {},
   "outputs": [],
   "source": [
    "Transaction_amount_count_Y_Q(tac_y,3)"
   ]
  },
  {
   "cell_type": "markdown",
   "metadata": {},
   "source": [
    "### Aggregated_Transaction"
   ]
  },
  {
   "cell_type": "code",
   "execution_count": null,
   "metadata": {},
   "outputs": [],
   "source": [
    "Aggre_tran_tac_Y=Transaction_amount_count_Y(Aggre_transaction,2022)"
   ]
  },
  {
   "cell_type": "code",
   "execution_count": null,
   "metadata": {},
   "outputs": [],
   "source": [
    "Aggre_Tran_Transaction_type(Aggre_tran_tac_Y, 'West Bengal')"
   ]
  },
  {
   "cell_type": "code",
   "execution_count": null,
   "metadata": {},
   "outputs": [],
   "source": [
    "Aggre_tran_tac_Y_Q= Transaction_amount_count_Y_Q(Aggre_tran_tac_Y,3)"
   ]
  },
  {
   "cell_type": "code",
   "execution_count": null,
   "metadata": {},
   "outputs": [],
   "source": [
    "Aggre_Tran_Transaction_type(Aggre_tran_tac_Y_Q, 'West Bengal')"
   ]
  },
  {
   "cell_type": "markdown",
   "metadata": {},
   "source": [
    "### Aggregarted_User"
   ]
  },
  {
   "cell_type": "code",
   "execution_count": null,
   "metadata": {},
   "outputs": [],
   "source": [
    "Aggre_user_Y=Aggre_user_plot_1(Aggre_user, 2020)"
   ]
  },
  {
   "cell_type": "code",
   "execution_count": null,
   "metadata": {},
   "outputs": [],
   "source": [
    "Aggre_user_Y_Q=Aggre_user_plot_2(Aggre_user_Y, 3)"
   ]
  },
  {
   "cell_type": "code",
   "execution_count": null,
   "metadata": {},
   "outputs": [],
   "source": [
    "Aggre_user_plot_3(Aggre_user_Y_Q,\"Andaman & Nicobar\")"
   ]
  },
  {
   "cell_type": "markdown",
   "metadata": {},
   "source": [
    "### Map_insurance"
   ]
  },
  {
   "cell_type": "code",
   "execution_count": null,
   "metadata": {},
   "outputs": [],
   "source": [
    "Map_insur_tac_Y=Transaction_amount_count_Y(Map_insurance,2022)"
   ]
  },
  {
   "cell_type": "code",
   "execution_count": null,
   "metadata": {},
   "outputs": [],
   "source": [
    "Map_insur_Districts(Map_insur_tac_Y, 'West Bengal')"
   ]
  },
  {
   "cell_type": "code",
   "execution_count": null,
   "metadata": {},
   "outputs": [],
   "source": [
    "Map_insur_tac_Y_Q= Transaction_amount_count_Y_Q(Map_insur_tac_Y,3)"
   ]
  },
  {
   "cell_type": "code",
   "execution_count": null,
   "metadata": {},
   "outputs": [],
   "source": [
    "Map_insur_Districts(Map_insur_tac_Y_Q, 'Tamil Nadu')"
   ]
  },
  {
   "cell_type": "markdown",
   "metadata": {},
   "source": [
    "### Map_Transaction"
   ]
  },
  {
   "cell_type": "code",
   "execution_count": null,
   "metadata": {},
   "outputs": [],
   "source": [
    "Map_tran_tac_Y=Transaction_amount_count_Y(Map_transaction,2022)"
   ]
  },
  {
   "cell_type": "code",
   "execution_count": null,
   "metadata": {},
   "outputs": [],
   "source": [
    "Map_insur_Districts(Map_tran_tac_Y, 'West Bengal')"
   ]
  },
  {
   "cell_type": "code",
   "execution_count": null,
   "metadata": {},
   "outputs": [],
   "source": [
    "Map_tran_tac_Y_Q= Transaction_amount_count_Y_Q(Map_tran_tac_Y,3)"
   ]
  },
  {
   "cell_type": "code",
   "execution_count": null,
   "metadata": {},
   "outputs": [],
   "source": [
    "Map_insur_Districts(Map_tran_tac_Y_Q, 'Tamil Nadu')"
   ]
  },
  {
   "cell_type": "markdown",
   "metadata": {},
   "source": [
    "### Map_User"
   ]
  },
  {
   "cell_type": "code",
   "execution_count": null,
   "metadata": {},
   "outputs": [],
   "source": [
    "map_user_Y=map_user_plot_1(Map_user, 2020)"
   ]
  },
  {
   "cell_type": "code",
   "execution_count": null,
   "metadata": {},
   "outputs": [],
   "source": [
    "map_user_Y_Q=map_user_plot_2(map_user_Y, 2)"
   ]
  },
  {
   "cell_type": "code",
   "execution_count": null,
   "metadata": {},
   "outputs": [],
   "source": [
    "map_user_plot_3(map_user_Y_Q,'Tamil Nadu')"
   ]
  },
  {
   "cell_type": "markdown",
   "metadata": {},
   "source": [
    "### Top insurance\n"
   ]
  },
  {
   "cell_type": "code",
   "execution_count": null,
   "metadata": {},
   "outputs": [],
   "source": [
    "Top_insur_tac_Y=Transaction_amount_count_Y(Top_insurance,2022)"
   ]
  },
  {
   "cell_type": "code",
   "execution_count": null,
   "metadata": {},
   "outputs": [],
   "source": [
    "top_insurance_plot_1(Top_insur_tac_Y,\"West Bengal\")"
   ]
  },
  {
   "cell_type": "code",
   "execution_count": null,
   "metadata": {},
   "outputs": [],
   "source": [
    "top_insur_tac_Y_Q= Transaction_amount_count_Y_Q(Top_insur_tac_Y,3)"
   ]
  },
  {
   "cell_type": "markdown",
   "metadata": {},
   "source": [
    "### Top Transaction"
   ]
  },
  {
   "cell_type": "code",
   "execution_count": null,
   "metadata": {},
   "outputs": [],
   "source": [
    "Top_tran_tac_Y=Transaction_amount_count_Y(Top_transaction,2022)"
   ]
  },
  {
   "cell_type": "code",
   "execution_count": null,
   "metadata": {},
   "outputs": [],
   "source": [
    "top_insurance_plot_1(Top_tran_tac_Y,\"West Bengal\")"
   ]
  },
  {
   "cell_type": "code",
   "execution_count": null,
   "metadata": {},
   "outputs": [],
   "source": [
    "top_tran_tac_Y_Q= Transaction_amount_count_Y_Q(Top_tran_tac_Y,3)"
   ]
  },
  {
   "cell_type": "markdown",
   "metadata": {},
   "source": [
    "### Top User"
   ]
  },
  {
   "cell_type": "code",
   "execution_count": null,
   "metadata": {},
   "outputs": [],
   "source": [
    "top_user_Y=top_user_plot_1(Top_user,2020)"
   ]
  },
  {
   "cell_type": "code",
   "execution_count": null,
   "metadata": {},
   "outputs": [],
   "source": [
    "top_user_plot_2(top_user_Y,\"Tamil Nadu\")"
   ]
  }
 ],
 "metadata": {
  "kernelspec": {
   "display_name": ".venv",
   "language": "python",
   "name": "python3"
  },
  "language_info": {
   "codemirror_mode": {
    "name": "ipython",
    "version": 3
   },
   "file_extension": ".py",
   "mimetype": "text/x-python",
   "name": "python",
   "nbconvert_exporter": "python",
   "pygments_lexer": "ipython3",
   "version": "3.12.3"
  }
 },
 "nbformat": 4,
 "nbformat_minor": 2
}
